{
 "cells": [
  {
   "cell_type": "markdown",
   "metadata": {},
   "source": [
    "PYTHON FOUNDATION ASSIGNMENT 01"
   ]
  },
  {
   "cell_type": "markdown",
   "metadata": {},
   "source": [
    "Q1. Write all the conventions being followed while declaring a variable."
   ]
  },
  {
   "cell_type": "markdown",
   "metadata": {},
   "source": [
    "When declaring a variable in Python (or most programming languages), there are several conventions and best practices to follow. These conventions ensure that the code is readable, maintainable, and conforms to community standards. Here are the key conventions:\n",
    "\n",
    "### 1. **Use Meaningful Variable Names**\n",
    "   - Variable names should clearly describe the purpose or value stored in the variable.\n",
    "   - Example: `age`, `student_name`, `total_price`.\n",
    "\n",
    "### 2. **Use Snake Case for Variable Names**\n",
    "   - In Python, it is common practice to use **snake_case**, where words are separated by underscores (`_`), and all letters are in lowercase.\n",
    "   - Example: `student_age`, `total_price`, `first_name`.\n",
    "\n",
    "### 3. **Avoid Using Reserved Keywords**\n",
    "   - Python has a set of reserved keywords (such as `if`, `else`, `for`, `while`, `class`, etc.) that cannot be used as variable names.\n",
    "   - Example: You cannot name a variable `class` or `def`.\n",
    "\n",
    "### 4. **Start with a Letter or Underscore**\n",
    "   - Variable names must start with a letter (a-z, A-Z) or an underscore (`_`), but cannot start with a digit.\n",
    "   - Example: `name`, `_counter`, but not `1st_student`.\n",
    "\n",
    "### 5. **Do Not Use Special Characters**\n",
    "   - Variable names can only include alphanumeric characters and underscores (`_`). They cannot include spaces or symbols like `$`, `#`, `%`, etc.\n",
    "   - Example: `student_grade`, but not `student#grade`.\n",
    "\n",
    "### 6. **Case Sensitivity**\n",
    "   - Variable names are case-sensitive in Python, so `studentName` and `StudentName` would be treated as two different variables.\n",
    "   - It is a good practice to use lowercase to avoid confusion.\n",
    "\n",
    "### 7. **Use Consistent Naming Style**\n",
    "   - Stick to one naming convention throughout your code. If you choose **snake_case** (recommended in Python), use it consistently.\n",
    "   - Example: If you start with `student_name`, don't switch to `studentName` or `Student_name` halfway through your code.\n",
    "\n",
    "### 8. **Avoid Single-character Variable Names (unless in loops or short contexts)**\n",
    "   - Single-character variable names like `x`, `y`, `i`, `j` are acceptable in short, temporary contexts like loops, but should be avoided for longer, meaningful variables.\n",
    "   - Example: Use `counter` instead of `c` in complex calculations, but `i` or `n` in loops is fine.\n",
    "\n",
    "### 9. **Follow Language-specific Naming Guidelines**\n",
    "   - Follow Python's specific conventions like **PEP 8** which recommends lowercase with underscores (`snake_case`) for variables.\n",
    "\n",
    "### 10. **Constants in Uppercase**\n",
    "   - If a variable is meant to be a constant (i.e., its value should not change), use all uppercase letters with underscores separating words.\n",
    "   - Example: `PI = 3.14159`, `MAX_VALUE = 100`.\n",
    "\n",
    " "
   ]
  },
  {
   "cell_type": "markdown",
   "metadata": {},
   "source": [
    "Q2. What will happen if we declare a restricted keyword as a variable?"
   ]
  },
  {
   "cell_type": "markdown",
   "metadata": {},
   "source": [
    "If you try to declare a restricted (reserved) keyword as a variable in Python, it will result in a **SyntaxError**. This is because reserved keywords have predefined meanings in the Python language, and they cannot be used as variable names.\n",
    "\n",
    "### Example:\n",
    "```python\n",
    "if = 5\n",
    "```\n",
    "\n",
    "### Output:\n",
    "```\n",
    "SyntaxError: invalid syntax\n",
    "```\n",
    "\n",
    "### Explanation:\n",
    "- **Reserved keywords** like `if`, `for`, `while`, `def`, `class`, etc., are integral to the Python syntax. They are used for specific control structures, defining functions, loops, and more.\n",
    "- Attempting to use one of these keywords as a variable will confuse the interpreter since it expects the keyword to perform its intended function rather than act as a variable.\n",
    "\n",
    "### List of Some Common Reserved Keywords in Python:\n",
    "- `if`, `else`, `elif`\n",
    "- `for`, `while`\n",
    "- `def`, `class`, `return`\n",
    "- `try`, `except`, `finally`\n",
    "- `import`, `from`\n",
    "- `True`, `False`, `None`\n",
    "\n",
    "Using any of these as variable names will result in a **SyntaxError**. You can view all reserved keywords in Python by running the following code:\n",
    "\n",
    "```python\n",
    "import keyword\n",
    "print(keyword.kwlist)\n",
    "```\n",
    "\n",
    "This will print the full list of reserved keywords that cannot be used as variable names."
   ]
  },
  {
   "cell_type": "markdown",
   "metadata": {},
   "source": [
    "Q3. Can we actually declare a string as a variable name?"
   ]
  },
  {
   "cell_type": "markdown",
   "metadata": {},
   "source": [
    "No, you cannot directly declare a string as a variable name in Python. In Python (and most programming languages), variable names must follow specific rules:\n",
    "\n",
    "### Rules for Variable Names:\n",
    "1. **Must start with a letter or an underscore (`_`).**\n",
    "2. **Cannot start with a digit.**\n",
    "3. **Must consist of letters, digits, and underscores only.**\n",
    "4. **Cannot be a reserved keyword** (like `if`, `else`, `class`).\n",
    "\n",
    "Strings, which are enclosed in quotes (either single or double), do not satisfy these criteria. Strings are values, not valid identifiers for variable names.\n",
    "\n",
    "### Example of Invalid Declaration:\n",
    "```python\n",
    "\"my_variable\" = 10\n",
    "```\n",
    "This will result in a **SyntaxError** because Python expects a valid variable name, not a string.\n",
    "\n",
    "### What You Can Do:\n",
    "If you want to **dynamically assign** variables using a string, you can use a dictionary to map string keys to values or use `globals()` or `locals()` (although these are generally discouraged for readability and maintainability reasons).\n",
    "\n",
    "#### Using a Dictionary:\n",
    "```python\n",
    "my_dict = {}\n",
    "my_dict[\"my_variable\"] = 10\n",
    "print(my_dict[\"my_variable\"])  # Output: 10\n",
    "```\n",
    "\n",
    "#### Using `globals()` (not recommended):\n",
    "```python\n",
    "globals()[\"my_variable\"] = 10\n",
    "print(my_variable)  # Output: 10\n",
    "```\n",
    "\n",
    " "
   ]
  },
  {
   "cell_type": "markdown",
   "metadata": {},
   "source": [
    "Q4. Is it possible for us to declare “_” as a variable? If so, then write an example of it."
   ]
  },
  {
   "cell_type": "markdown",
   "metadata": {},
   "source": [
    "Yes, in Python, you can declare the underscore (`_`) as a variable name. The underscore is treated just like any other valid variable name, so you can use it to store values.\n",
    "\n",
    "However, the underscore has some **special meanings** in certain contexts, but in general, it can still be used as a regular variable name.\n",
    "\n",
    "### Example:\n",
    "```python\n",
    "_ = 10\n",
    "print(_)  # Output: 10\n",
    "```\n",
    "\n",
    "In this example, the variable `_` is assigned the value `10`, and it prints the value just like any other variable.\n",
    "\n",
    "### Special Uses of the Underscore (`_`) in Python:\n",
    "1. **In the Python REPL (Read-Eval-Print Loop):** The underscore holds the value of the last evaluated expression.\n",
    "   ```python\n",
    "   >>> 5 + 3\n",
    "   8\n",
    "   >>> _\n",
    "   8\n",
    "   ```\n",
    "   Here, `_` will store the result `8` of the last expression.\n",
    "\n",
    "2. **As a \"throwaway\" variable:** The underscore is often used in loops or other places where the variable is not going to be used.\n",
    "   ```python\n",
    "   for _ in range(5):\n",
    "       print(\"Hello\")\n",
    "   ```\n",
    "   In this case, `_` is used because we don't need the loop variable.\n",
    "\n",
    "3. **Unpacking Values:** It can be used to ignore certain values when unpacking a tuple or list.\n",
    "   ```python\n",
    "   a, _, c = (1, 2, 3)\n",
    "   print(a, c)  # Output: 1 3\n",
    "   ```\n",
    "\n",
    " "
   ]
  },
  {
   "cell_type": "markdown",
   "metadata": {},
   "source": [
    "Q5. Using an example, explain how the variables in python are dynamic in nature."
   ]
  },
  {
   "cell_type": "markdown",
   "metadata": {},
   "source": [
    "In Python, variables are dynamic in nature, meaning that the type of a variable can change based on the value assigned to it. Unlike some statically-typed languages (such as Java or C++), Python does not require you to declare the data type of a variable beforehand. You can assign a value of one type to a variable, and later assign a value of a completely different type to the same variable."
   ]
  },
  {
   "cell_type": "code",
   "execution_count": 1,
   "metadata": {},
   "outputs": [
    {
     "name": "stdout",
     "output_type": "stream",
     "text": [
      "10\n",
      "<class 'int'>\n",
      "Hello\n",
      "<class 'str'>\n",
      "3.14\n",
      "<class 'float'>\n"
     ]
    }
   ],
   "source": [
    "# Initially, assigning an integer value to a variable\n",
    "x = 10\n",
    "print(x)          # Output: 10\n",
    "print(type(x))    # Output: <class 'int'>\n",
    "\n",
    "# Reassigning a string value to the same variable\n",
    "x = \"Hello\"\n",
    "print(x)          # Output: Hello\n",
    "print(type(x))    # Output: <class 'str'>\n",
    "\n",
    "# Reassigning a floating-point value to the same variable\n",
    "x = 3.14\n",
    "print(x)          # Output: 3.14\n",
    "print(type(x))    # Output: <class 'float'>\n"
   ]
  },
  {
   "cell_type": "markdown",
   "metadata": {},
   "source": []
  }
 ],
 "metadata": {
  "kernelspec": {
   "display_name": "Python 3",
   "language": "python",
   "name": "python3"
  },
  "language_info": {
   "codemirror_mode": {
    "name": "ipython",
    "version": 3
   },
   "file_extension": ".py",
   "mimetype": "text/x-python",
   "name": "python",
   "nbconvert_exporter": "python",
   "pygments_lexer": "ipython3",
   "version": "3.12.5"
  }
 },
 "nbformat": 4,
 "nbformat_minor": 2
}
